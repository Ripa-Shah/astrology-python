{
 "cells": [
  {
   "cell_type": "code",
   "execution_count": 2,
   "id": "wicked-prefix",
   "metadata": {},
   "outputs": [
    {
     "name": "stderr",
     "output_type": "stream",
     "text": [
      "[#################################] 100% de421.bsp\n"
     ]
    },
    {
     "name": "stdout",
     "output_type": "stream",
     "text": [
      "03h 58m 33.48s\n",
      "+21deg 59' 51.8\"\n",
      "1.53581 au\n"
     ]
    }
   ],
   "source": [
    "import skyfield\n",
    "from skyfield.api import load\n",
    "\n",
    "planets = load('de421.bsp')\n",
    "earth, mars = planets['earth'], planets['mars']\n",
    "\n",
    "ts = load.timescale()\n",
    "t = ts.now()\n",
    "astrometric = earth.at(t).observe(mars)\n",
    "ra, dec, distance = astrometric.radec()\n",
    "\n",
    "print(ra)\n",
    "print(dec)\n",
    "print(distance)"
   ]
  },
  {
   "cell_type": "code",
   "execution_count": 3,
   "id": "orange-reaction",
   "metadata": {},
   "outputs": [
    {
     "name": "stdout",
     "output_type": "stream",
     "text": [
      "13deg 05' 00.6\"\n",
      "288deg 02' 51.2\"\n"
     ]
    }
   ],
   "source": [
    "from skyfield.api import N, W, wgs84\n",
    "\n",
    "boston = earth + wgs84.latlon(42.3583 * N, 71.0636 * W)\n",
    "astrometric = boston.at(t).observe(mars)\n",
    "alt, az, d = astrometric.apparent().altaz()\n",
    "\n",
    "print(alt)\n",
    "print(az)"
   ]
  },
  {
   "cell_type": "code",
   "execution_count": 4,
   "id": "democratic-ordinance",
   "metadata": {},
   "outputs": [
    {
     "ename": "ModuleNotFoundError",
     "evalue": "No module named 'astropy'",
     "output_type": "error",
     "traceback": [
      "\u001b[1;31m---------------------------------------------------------------------------\u001b[0m",
      "\u001b[1;31mModuleNotFoundError\u001b[0m                       Traceback (most recent call last)",
      "\u001b[1;32m<ipython-input-4-c1dc0544d9ae>\u001b[0m in \u001b[0;36m<module>\u001b[1;34m\u001b[0m\n\u001b[1;32m----> 1\u001b[1;33m \u001b[1;32mfrom\u001b[0m \u001b[0mastropy\u001b[0m \u001b[1;32mimport\u001b[0m \u001b[0munits\u001b[0m \u001b[1;32mas\u001b[0m \u001b[0mu\u001b[0m\u001b[1;33m\u001b[0m\u001b[1;33m\u001b[0m\u001b[0m\n\u001b[0m\u001b[0;32m      2\u001b[0m \u001b[0mxyz\u001b[0m \u001b[1;33m=\u001b[0m \u001b[0mastrometric\u001b[0m\u001b[1;33m.\u001b[0m\u001b[0mposition\u001b[0m\u001b[1;33m.\u001b[0m\u001b[0mto\u001b[0m\u001b[1;33m(\u001b[0m\u001b[0mu\u001b[0m\u001b[1;33m.\u001b[0m\u001b[0mau\u001b[0m\u001b[1;33m)\u001b[0m\u001b[1;33m\u001b[0m\u001b[1;33m\u001b[0m\u001b[0m\n\u001b[0;32m      3\u001b[0m \u001b[0maltitude\u001b[0m \u001b[1;33m=\u001b[0m \u001b[0malt\u001b[0m\u001b[1;33m.\u001b[0m\u001b[0mto\u001b[0m\u001b[1;33m(\u001b[0m\u001b[0mu\u001b[0m\u001b[1;33m.\u001b[0m\u001b[0mdeg\u001b[0m\u001b[1;33m)\u001b[0m\u001b[1;33m\u001b[0m\u001b[1;33m\u001b[0m\u001b[0m\n\u001b[0;32m      4\u001b[0m \u001b[1;33m\u001b[0m\u001b[0m\n\u001b[0;32m      5\u001b[0m \u001b[0mprint\u001b[0m\u001b[1;33m(\u001b[0m\u001b[0mxyz\u001b[0m\u001b[1;33m)\u001b[0m\u001b[1;33m\u001b[0m\u001b[1;33m\u001b[0m\u001b[0m\n",
      "\u001b[1;31mModuleNotFoundError\u001b[0m: No module named 'astropy'"
     ]
    }
   ],
   "source": [
    "from astropy import units as u\n",
    "xyz = astrometric.position.to(u.au)\n",
    "altitude = alt.to(u.deg)\n",
    "\n",
    "print(xyz)\n",
    "print('{0:0.03f}'.format(altitude))"
   ]
  },
  {
   "cell_type": "code",
   "execution_count": 5,
   "id": "ceramic-belarus",
   "metadata": {},
   "outputs": [
    {
     "name": "stdout",
     "output_type": "stream",
     "text": [
      "[0.71977258 1.22870047 0.57523823] AU\n",
      "13.084 deg\n"
     ]
    }
   ],
   "source": [
    "from astropy import units as u\n",
    "xyz = astrometric.position.to(u.au)\n",
    "altitude = alt.to(u.deg)\n",
    "\n",
    "print(xyz)\n",
    "print('{0:0.03f}'.format(altitude))"
   ]
  },
  {
   "cell_type": "code",
   "execution_count": 6,
   "id": "following-bernard",
   "metadata": {},
   "outputs": [
    {
     "name": "stdout",
     "output_type": "stream",
     "text": [
      "Solar noon: 2021-03-07 12:46:27\n"
     ]
    }
   ],
   "source": [
    "import datetime as dt\n",
    "from pytz import timezone\n",
    "from skyfield import almanac\n",
    "from skyfield.api import N, W, wgs84, load\n",
    "\n",
    "zone = timezone('US/Eastern')\n",
    "now = zone.localize(dt.datetime.now())\n",
    "midnight = now.replace(hour=0, minute=0, second=0, microsecond=0)\n",
    "next_midnight = midnight + dt.timedelta(days=1)\n",
    "\n",
    "ts = load.timescale()\n",
    "t0 = ts.from_datetime(midnight)\n",
    "t1 = ts.from_datetime(next_midnight)\n",
    "eph = load('de421.bsp')\n",
    "bluffton = wgs84.latlon(40.8939 * N, 83.8917 * W)\n",
    "\n",
    "f = almanac.meridian_transits(eph, eph['Sun'], bluffton)\n",
    "times, events = almanac.find_discrete(t0, t1, f)\n",
    "\n",
    "# Select transits instead of antitransits.\n",
    "times = times[events == 1]\n",
    "\n",
    "t = times[0]\n",
    "tstr = str(t.astimezone(zone))[:19]\n",
    "print('Solar noon:', tstr)"
   ]
  },
  {
   "cell_type": "code",
   "execution_count": 7,
   "id": "presidential-introduction",
   "metadata": {},
   "outputs": [
    {
     "name": "stdout",
     "output_type": "stream",
     "text": [
      "2021-03-07 05:28   Astronomical twilight starts\n",
      "2021-03-07 06:00   Nautical twilight starts\n",
      "2021-03-07 06:32   Civil twilight starts\n",
      "2021-03-07 06:59   Day starts\n",
      "2021-03-07 18:33   Civil twilight starts\n",
      "2021-03-07 19:01   Nautical twilight starts\n",
      "2021-03-07 19:33   Astronomical twilight starts\n",
      "2021-03-07 20:05   Night starts\n"
     ]
    }
   ],
   "source": [
    "import datetime as dt\n",
    "from pytz import timezone\n",
    "from skyfield import almanac\n",
    "from skyfield.api import N, W, wgs84, load\n",
    "\n",
    "# Figure out local midnight.\n",
    "zone = timezone('US/Eastern')\n",
    "now = zone.localize(dt.datetime.now())\n",
    "midnight = now.replace(hour=0, minute=0, second=0, microsecond=0)\n",
    "next_midnight = midnight + dt.timedelta(days=1)\n",
    "\n",
    "ts = load.timescale()\n",
    "t0 = ts.from_datetime(midnight)\n",
    "t1 = ts.from_datetime(next_midnight)\n",
    "eph = load('de421.bsp')\n",
    "bluffton = wgs84.latlon(40.8939 * N, 83.8917 * W)\n",
    "f = almanac.dark_twilight_day(eph, bluffton)\n",
    "times, events = almanac.find_discrete(t0, t1, f)\n",
    "\n",
    "for t, e in zip(times, events):\n",
    "    tstr = str(t.astimezone(zone))[:16]\n",
    "    print(tstr, ' ', almanac.TWILIGHTS[e], 'starts')"
   ]
  },
  {
   "cell_type": "code",
   "execution_count": 8,
   "id": "painted-guinea",
   "metadata": {},
   "outputs": [
    {
     "name": "stdout",
     "output_type": "stream",
     "text": [
      "149.4\n"
     ]
    }
   ],
   "source": [
    "from skyfield.api import load\n",
    "from skyfield.framelib import ecliptic_frame\n",
    "\n",
    "ts = load.timescale()\n",
    "t = ts.utc(2019, 12, 9, 15, 36)\n",
    "\n",
    "eph = load('de421.bsp')\n",
    "sun, moon, earth = eph['sun'], eph['moon'], eph['earth']\n",
    "\n",
    "e = earth.at(t)\n",
    "_, slon, _ = e.observe(sun).apparent().frame_latlon(ecliptic_frame)\n",
    "_, mlon, _ = e.observe(moon).apparent().frame_latlon(ecliptic_frame)\n",
    "phase = (mlon.degrees - slon.degrees) % 360.0\n",
    "\n",
    "print('{0:.1f}'.format(phase))"
   ]
  },
  {
   "cell_type": "code",
   "execution_count": 9,
   "id": "flying-tattoo",
   "metadata": {},
   "outputs": [
    {
     "name": "stdout",
     "output_type": "stream",
     "text": [
      "2.257190 arcseconds\n"
     ]
    }
   ],
   "source": [
    "import numpy as np\n",
    "from skyfield.api import Angle, load\n",
    "\n",
    "ts = load.timescale()\n",
    "time = ts.utc(2020, 12, 30)\n",
    "\n",
    "eph = load('de421.bsp')\n",
    "earth, neptune = eph['earth'], eph['neptune barycenter']\n",
    "radius_km = 24764.0\n",
    "\n",
    "astrometric = earth.at(time).observe(neptune)\n",
    "ra, dec, distance = astrometric.apparent().radec()\n",
    "apparent_diameter = Angle(radians=np.arcsin(radius_km / distance.km) * 2.0)\n",
    "print('{:.6f} arcseconds'.format(apparent_diameter.arcseconds()))"
   ]
  },
  {
   "cell_type": "code",
   "execution_count": 10,
   "id": "authorized-messenger",
   "metadata": {},
   "outputs": [
    {
     "name": "stdout",
     "output_type": "stream",
     "text": [
      "2019-01-06 04:53:35 UTC  47.0° west elongation\n",
      "2020-03-24 22:13:32 UTC  46.1° east elongation\n",
      "2020-08-13 00:14:12 UTC  45.8° west elongation\n",
      "2021-10-29 20:51:56 UTC  47.0° east elongation\n"
     ]
    }
   ],
   "source": [
    "from skyfield.api import load\n",
    "from skyfield.framelib import ecliptic_frame\n",
    "from skyfield.searchlib import find_maxima\n",
    "\n",
    "ts = load.timescale()\n",
    "t0 = ts.utc(2019)\n",
    "t1 = ts.utc(2022)\n",
    "\n",
    "eph = load('de421.bsp')\n",
    "sun, earth, venus = eph['sun'], eph['earth'], eph['venus']\n",
    "\n",
    "def elongation_at(t):\n",
    "    e = earth.at(t)\n",
    "    s = e.observe(sun).apparent()\n",
    "    v = e.observe(venus).apparent()\n",
    "    return s.separation_from(v).degrees\n",
    "\n",
    "elongation_at.step_days = 15.0\n",
    "\n",
    "times, elongations = find_maxima(t0, t1, elongation_at)\n",
    "\n",
    "for t, elongation_degrees in zip(times, elongations):\n",
    "    e = earth.at(t)\n",
    "    _, slon, _ = e.observe(sun).apparent().frame_latlon(ecliptic_frame)\n",
    "    _, vlon, _ = e.observe(venus).apparent().frame_latlon(ecliptic_frame)\n",
    "    is_east = (vlon.degrees - slon.degrees) % 360.0 < 180.0\n",
    "    direction = 'east' if is_east else 'west'\n",
    "    print('{}  {:4.1f}° {} elongation'.format(\n",
    "        t.utc_strftime(), elongation_degrees, direction))"
   ]
  },
  {
   "cell_type": "code",
   "execution_count": 11,
   "id": "saving-valuation",
   "metadata": {},
   "outputs": [
    {
     "name": "stdout",
     "output_type": "stream",
     "text": [
      "238deg 55' 55.3\"\n"
     ]
    }
   ],
   "source": [
    "from skyfield.api import N, W, load, wgs84\n",
    "from skyfield.trigonometry import position_angle_of\n",
    "\n",
    "ts = load.timescale()\n",
    "t = ts.utc(2019, 9, 30, 23)\n",
    "\n",
    "eph = load('de421.bsp')\n",
    "sun, moon, earth = eph['sun'], eph['moon'], eph['earth']\n",
    "boston = earth + wgs84.latlon(42.3583 * N, 71.0636 * W)\n",
    "\n",
    "b = boston.at(t)\n",
    "m = b.observe(moon).apparent()\n",
    "s = b.observe(sun).apparent()\n",
    "print(position_angle_of(m.altaz(), s.altaz()))"
   ]
  },
  {
   "cell_type": "code",
   "execution_count": null,
   "id": "careful-humanity",
   "metadata": {},
   "outputs": [],
   "source": []
  }
 ],
 "metadata": {
  "kernelspec": {
   "display_name": "Python 3",
   "language": "python",
   "name": "python3"
  },
  "language_info": {
   "codemirror_mode": {
    "name": "ipython",
    "version": 3
   },
   "file_extension": ".py",
   "mimetype": "text/x-python",
   "name": "python",
   "nbconvert_exporter": "python",
   "pygments_lexer": "ipython3",
   "version": "3.9.2"
  }
 },
 "nbformat": 4,
 "nbformat_minor": 5
}
