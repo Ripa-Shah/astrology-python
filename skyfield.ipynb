{
 "cells": [
  {
   "cell_type": "code",
   "execution_count": 2,
   "id": "oriented-customer",
   "metadata": {},
   "outputs": [
    {
     "name": "stderr",
     "output_type": "stream",
     "text": [
      "[#################################] 100% de421.bsp\n"
     ]
    },
    {
     "name": "stdout",
     "output_type": "stream",
     "text": [
      "03h 58m 33.48s\n",
      "+21deg 59' 51.8\"\n",
      "1.53581 au\n"
     ]
    }
   ],
   "source": [
    "import skyfield\n",
    "from skyfield.api import load\n",
    "\n",
    "planets = load('de421.bsp')\n",
    "earth, mars = planets['earth'], planets['mars']\n",
    "\n",
    "ts = load.timescale()\n",
    "t = ts.now()\n",
    "astrometric = earth.at(t).observe(mars)\n",
    "ra, dec, distance = astrometric.radec()\n",
    "\n",
    "print(ra)\n",
    "print(dec)\n",
    "print(distance)"
   ]
  },
  {
   "cell_type": "code",
   "execution_count": null,
   "id": "blank-deficit",
   "metadata": {},
   "outputs": [],
   "source": []
  }
 ],
 "metadata": {
  "kernelspec": {
   "display_name": "Python 3",
   "language": "python",
   "name": "python3"
  },
  "language_info": {
   "codemirror_mode": {
    "name": "ipython",
    "version": 3
   },
   "file_extension": ".py",
   "mimetype": "text/x-python",
   "name": "python",
   "nbconvert_exporter": "python",
   "pygments_lexer": "ipython3",
   "version": "3.9.2"
  }
 },
 "nbformat": 4,
 "nbformat_minor": 5
}
